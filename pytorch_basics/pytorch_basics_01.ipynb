{
  "cells": [
    {
      "cell_type": "markdown",
      "metadata": {
        "id": "OK3Qr9IqIx0Y"
      },
      "source": [
        "# Pytorch Basics"
      ]
    },
    {
      "cell_type": "markdown",
      "metadata": {
        "id": "PjLu0dUMFfZz"
      },
      "source": [
        "Importing Library and Checking the version"
      ]
    },
    {
      "cell_type": "code",
      "execution_count": 10,
      "metadata": {
        "colab": {
          "base_uri": "https://localhost:8080/"
        },
        "id": "Ti7xXWamFVSc",
        "outputId": "f4d71d95-116e-4700-d328-937dc8f221aa"
      },
      "outputs": [
        {
          "name": "stdout",
          "output_type": "stream",
          "text": [
            "1.10.0+cu111\n"
          ]
        }
      ],
      "source": [
        "import torch\n",
        "\n",
        "print(torch.__version__)"
      ]
    },
    {
      "cell_type": "markdown",
      "metadata": {
        "id": "H8Rxkjc1Fer7"
      },
      "source": [
        "## Pytoch Tensors\n",
        "\n",
        "\n",
        "A tensor is basically a multi-dimentional array \n",
        "- A scalar is 0-dim tensor\n",
        "- A 1d array is 1-dim tensor\n",
        "- A matrix is 2-dim tensor, etc\n",
        "\n",
        "### Defining tensors"
      ]
    },
    {
      "cell_type": "code",
      "execution_count": 13,
      "metadata": {
        "colab": {
          "base_uri": "https://localhost:8080/"
        },
        "id": "HW3bJp5gF0-h",
        "outputId": "8b2277da-ae92-4cbb-e4e9-8e93e44b2ce8"
      },
      "outputs": [
        {
          "name": "stdout",
          "output_type": "stream",
          "text": [
            "tensor(2)\n",
            "tensor([1, 2, 3, 4, 5])\n",
            "tensor([[1, 2, 3],\n",
            "        [4, 5, 6]])\n",
            "tensor([[[1, 4, 5],\n",
            "         [1, 2, 3]],\n",
            "\n",
            "        [[9, 5, 2],\n",
            "         [4, 5, 6]]])\n"
          ]
        }
      ],
      "source": [
        "# Defining a zero dim tensor\n",
        "x = torch.tensor(2)\n",
        "print(x)\n",
        "\n",
        "# Defining a 1-dim tensor (Vector)\n",
        "x = torch.tensor([1,2,3,4,5])\n",
        "print(x)\n",
        "\n",
        "# Defining a 2-dim tensor (Matrix)\n",
        "x = torch.tensor([[1,2,3], [4,5,6]])\n",
        "print(x)\n",
        "\n",
        "# Defining a n-dim tensor (here n=3)\n",
        "x = torch.tensor([[[1,4,5], [1,2,3]], [[9,5,2], [4,5,6]]])\n",
        "print(x)\n"
      ]
    },
    {
      "cell_type": "code",
      "execution_count": 23,
      "metadata": {
        "colab": {
          "base_uri": "https://localhost:8080/"
        },
        "id": "M6VnWwEbdAvr",
        "outputId": "acfa855b-5f5e-4229-8810-d573cbbfbb53"
      },
      "outputs": [
        {
          "name": "stdout",
          "output_type": "stream",
          "text": [
            "tensor([[0., 0., 0., 0.],\n",
            "        [0., 0., 0., 0.],\n",
            "        [0., 0., 0., 0.]])\n",
            "tensor([[1., 1., 1., 1.],\n",
            "        [1., 1., 1., 1.],\n",
            "        [1., 1., 1., 1.]])\n",
            "tensor([[3, 4, 6, 2],\n",
            "        [7, 0, 4, 1],\n",
            "        [3, 4, 8, 7]])\n",
            "tensor([[0.4204, 0.2119, 0.3786, 0.5223],\n",
            "        [0.9077, 0.3073, 0.1492, 0.7247],\n",
            "        [0.8912, 0.1823, 0.2290, 0.9724]])\n",
            "tensor([[-0.1152,  1.0348,  0.2428,  0.1648],\n",
            "        [ 0.3382, -0.5847, -1.0456,  0.1386],\n",
            "        [-0.4011,  0.0090,  0.6090,  1.8746]])\n",
            "\n",
            "<class 'torch.Tensor'>\n"
          ]
        }
      ],
      "source": [
        "# Tensors with zeros as their values \n",
        "x = torch.zeros((3,4)) # (3,4)->dim\n",
        "print(x)\n",
        "\n",
        "# Tensors with ones as their values \n",
        "x = torch.ones((3,4)) # (3,4)->dim\n",
        "print(x)\n",
        "\n",
        "\n",
        "#### Tensors with random values ####\n",
        "# Intergers\n",
        "x = torch.randint(low=0, high=10, size=(3,4)) # (3,4)->dim\n",
        "print(x)\n",
        "\n",
        "# Values Between 0 to 1\n",
        "x = torch.rand(3,4) # (3,4)->dim\n",
        "print(x)\n",
        "\n",
        "# values that follow normal distribution\n",
        "x = torch.randn(3,4) # (3,4)->dim\n",
        "print(x)\n",
        "print()\n",
        "\n",
        "\n",
        "# Type of any tensors is <class 'torch.Tensor'>\n",
        "print(type(x))"
      ]
    },
    {
      "cell_type": "markdown",
      "metadata": {
        "id": "n0shwpXkeyHf"
      },
      "source": [
        "## Operations on Tensors"
      ]
    },
    {
      "cell_type": "code",
      "execution_count": 24,
      "metadata": {
        "colab": {
          "base_uri": "https://localhost:8080/"
        },
        "id": "69LRTzO2IWpJ",
        "outputId": "262f7760-b211-4b4c-ffa7-d6bb5c052bc9"
      },
      "outputs": [
        {
          "data": {
            "text/plain": [
              "tensor([10, 20, 30, 40])"
            ]
          },
          "execution_count": 24,
          "metadata": {},
          "output_type": "execute_result"
        }
      ],
      "source": [
        "# Multiplication with scalar\n",
        "x = torch.tensor([1,2,3,4])\n",
        "\n",
        "x*10"
      ]
    },
    {
      "cell_type": "code",
      "execution_count": 27,
      "metadata": {
        "colab": {
          "base_uri": "https://localhost:8080/"
        },
        "id": "HdMN6q5Ffj-9",
        "outputId": "837b77e6-72e8-426a-a59e-9d4a88c84da6"
      },
      "outputs": [
        {
          "data": {
            "text/plain": [
              "tensor([[11, 12, 13, 14],\n",
              "        [11, 12, 17, 15]])"
            ]
          },
          "execution_count": 27,
          "metadata": {},
          "output_type": "execute_result"
        }
      ],
      "source": [
        "# Addtion of scalar\n",
        "x = torch.tensor([[1,2,3,4],[1,2,7,5]])\n",
        "x+10"
      ]
    },
    {
      "cell_type": "code",
      "execution_count": 28,
      "metadata": {
        "colab": {
          "base_uri": "https://localhost:8080/"
        },
        "id": "LJNM3ZYkfO0A",
        "outputId": "b0f6ec46-3bf5-423d-c299-d26cbbdf3849"
      },
      "outputs": [
        {
          "data": {
            "text/plain": [
              "tensor([10, 21, 22,  6])"
            ]
          },
          "execution_count": 28,
          "metadata": {},
          "output_type": "execute_result"
        }
      ],
      "source": [
        "# Addtion of one tensor to  another \n",
        "# NOTE: The size of \"tensor A\" must match the size of \"tensor B\"\n",
        "x = torch.tensor([1,2,3,4])\n",
        "y = torch.tensor([9,19,19,2])\n",
        "\n",
        "x+y"
      ]
    },
    {
      "cell_type": "code",
      "execution_count": null,
      "metadata": {
        "id": "m3KLD11Jfc_S"
      },
      "outputs": [],
      "source": []
    }
  ],
  "metadata": {
    "colab": {
      "collapsed_sections": [],
      "name": "pytorch_basics_01.ipynb",
      "provenance": []
    },
    "kernelspec": {
      "display_name": "Python 3",
      "name": "python3"
    },
    "language_info": {
      "name": "python",
      "version": "3.7.0"
    }
  },
  "nbformat": 4,
  "nbformat_minor": 0
}
